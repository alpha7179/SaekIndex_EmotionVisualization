{
 "cells": [
  {
   "cell_type": "code",
   "execution_count": null,
   "id": "7dc9605f",
   "metadata": {},
   "outputs": [],
   "source": [
    "#pipe server\n",
    "from body import BodyThread\n",
    "import time\n",
    "import struct\n",
    "import global_vars\n",
    "from sys import exit\n",
    "\n",
    "thread = BodyThread()\n",
    "thread.start()\n",
    "\n",
    "i = input()\n",
    "print(\"Exiting…\")        \n",
    "global_vars.KILL_THREADS = True\n",
    "time.sleep(0.5)\n",
    "exit()"
   ]
  }
 ],
 "metadata": {
  "language_info": {
   "name": "python"
  }
 },
 "nbformat": 4,
 "nbformat_minor": 5
}
