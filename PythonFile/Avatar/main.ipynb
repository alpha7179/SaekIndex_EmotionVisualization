{
 "cells": [
  {
   "cell_type": "code",
   "execution_count": null,
   "id": "7dc9605f",
   "metadata": {},
   "outputs": [
    {
     "name": "stdout",
     "output_type": "stream",
     "text": [
      "Attempting Connection...\n",
      "Will send messages to ('127.0.0.1', 52733)\n",
      "Waiting for camera and capture thread.\n",
      "Waiting for camera and capture thread.\n",
      "Waiting for camera and capture thread.\n",
      "Waiting for camera and capture thread.\n",
      "Waiting for camera and capture thread.\n",
      "Opened Capture @ 30.0 fps\n",
      "Waiting for camera and capture thread.\n",
      "Waiting for camera and capture thread.\n",
      "Capture FPS:  5.686836973074981e-10\n",
      "Beginning capture\n",
      "Theoretical Maximum FPS: 42.217029\n",
      "Theoretical Maximum FPS: 3.947290\n",
      "Theoretical Maximum FPS: 6.090176\n",
      "Capture FPS:  31.44851496784146\n",
      "Theoretical Maximum FPS: 4.386310\n",
      "Theoretical Maximum FPS: 5.909335\n",
      "Theoretical Maximum FPS: 3.651511\n",
      "Capture FPS:  29.9251046660627\n",
      "\n",
      "Received KeyboardInterrupt, stopping threads...\n",
      "BodyThread is cleaning up resources...\n",
      "BodyThread has exited.\n",
      "Exiting successfully.\n"
     ]
    }
   ],
   "source": [
    "#pipe server\n",
    "from body import BodyThread\n",
    "import time\n",
    "import global_vars\n",
    "from sys import exit\n",
    "\n",
    "global_vars.KILL_THREADS = False\n",
    "\n",
    "thread = BodyThread()\n",
    "thread.start()\n",
    "\n",
    "try:\n",
    "    # 'q' 키를 눌러 스레드가 종료되도록 대기합니다.\n",
    "    while not global_vars.KILL_THREADS:\n",
    "        time.sleep(0.1)\n",
    "\n",
    "    print(\"Received exit signal, stopping threads...\")\n",
    "\n",
    "except KeyboardInterrupt:\n",
    "    # Jupyter에서 '정지' 버튼을 눌렀을 때도 스레드가 안전하게 종료되도록 합니다.\n",
    "    print(\"\\nReceived KeyboardInterrupt, stopping threads...\")\n",
    "    global_vars.KILL_THREADS = True\n",
    "\n",
    "# 스레드가 완전히 종료될 때까지 기다립니다.\n",
    "thread.join()\n",
    "\n",
    "print(\"Exiting successfully.\")"
   ]
  }
 ],
 "metadata": {
  "kernelspec": {
   "display_name": "Python (alpha)",
   "language": "python",
   "name": "alpha"
  },
  "language_info": {
   "codemirror_mode": {
    "name": "ipython",
    "version": 3
   },
   "file_extension": ".py",
   "mimetype": "text/x-python",
   "name": "python",
   "nbconvert_exporter": "python",
   "pygments_lexer": "ipython3",
   "version": "3.9.23"
  }
 },
 "nbformat": 4,
 "nbformat_minor": 5
}
